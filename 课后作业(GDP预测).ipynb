{
 "cells": [
  {
   "cell_type": "code",
   "execution_count": 10,
   "metadata": {},
   "outputs": [
    {
     "name": "stdout",
     "output_type": "stream",
     "text": [
      "[[ 827122.   743585.   689052.1  643974.   595244.4  540367.4  489300.6]]\n"
     ]
    }
   ],
   "source": [
    "import numpy as np\n",
    "import pandas as pd\n",
    "from scipy import stats\n",
    "import statsmodels.api as sm\n",
    "from statsmodels.graphics.api import qqplot\n",
    "\n",
    "import warnings\n",
    "warnings.filterwarnings('ignore')\n",
    "index=['国内生产总值(亿元)','国内生产总值增长率(%)','人均国内生产总值(元/人)','人均国内生产总值增长率(%)','居民消费水平(亿元)','投资(亿元)']\n",
    "name=['2017年','2016年','2015年','2014年','2013年','2012年','2011年']\n",
    "op1=[827122.00,11.23,0,0,0,0]\n",
    "op2=[743585.00,6.70,53935.00,6.10,297990,445595.00]\n",
    "op3=[689052.10,6.90,50251.00,6.40,271306,417746.10]\n",
    "op4=[643974.00,7.30,47203.00,6.80,248892,395082.00]\n",
    "op5=[595244.40,7.80,43852.00,7.20,226660,368584.40]\n",
    "op6=[540367.40,7.90,40007.00,7.30,205786,334581.40]\n",
    "op7=[489300.60,9.50,36403.00,9.00,183876,305424.60]\n",
    "df2 = pd.DataFrame([op1,op2,op3,op4,op5,op6,op7])\n",
    "df2=df2.T\n",
    "df2.index=index\n",
    "df2.columns=name\n",
    "df2\n",
    "\n",
    "gdp = df2.loc[['国内生产总值(亿元)']]\n",
    "\n",
    "df2.loc[['国内生产总值(亿元)']]\n",
    "\n",
    "print(gdp.values)"
   ]
  },
  {
   "cell_type": "code",
   "execution_count": null,
   "metadata": {
    "collapsed": true
   },
   "outputs": [],
   "source": []
  }
 ],
 "metadata": {
  "kernelspec": {
   "display_name": "Python 3",
   "language": "python",
   "name": "python3"
  },
  "language_info": {
   "codemirror_mode": {
    "name": "ipython",
    "version": 3
   },
   "file_extension": ".py",
   "mimetype": "text/x-python",
   "name": "python",
   "nbconvert_exporter": "python",
   "pygments_lexer": "ipython3",
   "version": "3.6.2"
  }
 },
 "nbformat": 4,
 "nbformat_minor": 2
}
